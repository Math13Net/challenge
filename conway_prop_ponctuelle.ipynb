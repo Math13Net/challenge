{
 "cells": [
  {
   "cell_type": "markdown",
   "id": "fb96a328",
   "metadata": {},
   "source": [
    "la méthode 1 étant plus rapide, on va l'utiliser pour générer la suite"
   ]
  },
  {
   "cell_type": "code",
   "execution_count": 3,
   "id": "c5b3f774",
   "metadata": {},
   "outputs": [],
   "source": [
    "from time import time\n",
    "\n",
    "def look_and_say(n):\n",
    "    \"\"\"Generate the look-and-say sequence up to term n.\n",
    "    Returns a list of sequence members and elapsed times.\n",
    "    ex : look_and_say_1(5)\n",
    "    ([[1], [1, 1], [2, 1], [1, 2, 1, 1], [1, 1, 1, 2, 2, 1]], [0, 0.0, 0.0, 0.0, 0.0])\n",
    "    \"\"\"\n",
    "    sequence = [[1]]\n",
    "    elapsed = [0]\n",
    "    start = time()\n",
    "\n",
    "    for i in range(n-1):\n",
    "        next_elem = []\n",
    "        run_val = sequence[i][0]\n",
    "        run_len = 1\n",
    "        \n",
    "        # loop through rest of sequence with dummy value at end\n",
    "        for val in sequence[i][1:] + [-1]:\n",
    "            if val != run_val:\n",
    "                next_elem.extend([run_len, run_val])\n",
    "                run_len = 1\n",
    "                run_val = val\n",
    "            else:\n",
    "                run_len += 1\n",
    "\n",
    "        sequence.append(next_elem)\n",
    "        elapsed.append(time() - start)\n",
    "\n",
    "    return sequence, elapsed"
   ]
  },
  {
   "cell_type": "markdown",
   "id": "0a35897a",
   "metadata": {},
   "source": [
    "mise de la liste dans une bdd pour traitement"
   ]
  },
  {
   "cell_type": "code",
   "execution_count": 29,
   "id": "30ad3e31",
   "metadata": {},
   "outputs": [
    {
     "name": "stdout",
     "output_type": "stream",
     "text": [
      "                                                terme  temps\n",
      "0                                                   1    0.0\n",
      "1                                                  11    0.0\n",
      "2                                                  21    0.0\n",
      "3                                                1211    0.0\n",
      "4                                              111221    0.0\n",
      "5                                              312211    0.0\n",
      "6                                            13112221    0.0\n",
      "7                                          1113213211    0.0\n",
      "8                                      31131211131221    0.0\n",
      "9                                13211311123113112211    0.0\n",
      "10                         11131221133112132113212221    0.0\n",
      "11                 3113112221232112111312211312113211    0.0\n",
      "12     1321132132111213122112311311222113111221131221    0.0\n",
      "13  1113122113121113123112111311222112132113213221...    0.0\n",
      "14  3113112221131112311311121321123113213221121113...    0.0\n",
      "15  1321132132211331121321133112111312211213211312...    0.0\n",
      "16  1113122113121113222123211211131221232112311311...    0.0\n",
      "17  3113112221131112311332111213122112311311221112...    0.0\n",
      "18  1321132132211331121321231231121113112221121321...    0.0\n",
      "19  1113122113121113222123211211131211121311121321...    0.0\n",
      "terme     object\n",
      "temps    float64\n",
      "dtype: object\n"
     ]
    }
   ],
   "source": [
    "# transfert de la liste dans un fichier\n",
    "\n",
    "n = 20\n",
    "sequence, elapse  = look_and_say(n)\n",
    "\n",
    "a = \"\\n\"\n",
    "\n",
    "file = open(\"conway.txt\", 'w')\n",
    "file.write(f\"terme temps\\n\")\n",
    "\n",
    "for i in range(n):\n",
    "    b = ''.join(map(str, sequence[i]))\n",
    "    file.write(f\"{int(b)} {elapse[i]}{a}\")\n",
    "file.close()\n",
    "\n",
    "#fichier = open(\"conway.txt\", \"r\")\n",
    "#print(fichier.read())\n",
    "#fichier.close()\n",
    "\n",
    "# construction de la base bdd avec le fichier txt\n",
    "import pandas as pd\n",
    "\n",
    "conway_bdd = pd.read_csv(\"conway.txt\", sep = \" \")\n",
    "print(conway_bdd)\n",
    "print(conway_bdd.dtypes)"
   ]
  },
  {
   "cell_type": "code",
   "execution_count": 5,
   "id": "df8ffac9",
   "metadata": {},
   "outputs": [
    {
     "name": "stdout",
     "output_type": "stream",
     "text": [
      "<class 'pandas.core.frame.DataFrame'>\n",
      "RangeIndex: 20 entries, 0 to 19\n",
      "Data columns (total 2 columns):\n",
      " #   Column  Non-Null Count  Dtype  \n",
      "---  ------  --------------  -----  \n",
      " 0   terme   20 non-null     object \n",
      " 1   temps   20 non-null     float64\n",
      "dtypes: float64(1), object(1)\n",
      "memory usage: 448.0+ bytes\n",
      "None\n"
     ]
    }
   ],
   "source": [
    "print(conway_bdd.info())"
   ]
  },
  {
   "cell_type": "code",
   "execution_count": 30,
   "id": "56611734",
   "metadata": {},
   "outputs": [
    {
     "name": "stdout",
     "output_type": "stream",
     "text": [
      "0                                                     1\n",
      "1                                                    11\n",
      "2                                                    21\n",
      "3                                                  1211\n",
      "4                                                111221\n",
      "5                                                312211\n",
      "6                                              13112221\n",
      "7                                            1113213211\n",
      "8                                        31131211131221\n",
      "9                                  13211311123113112211\n",
      "10                           11131221133112132113212221\n",
      "11                   3113112221232112111312211312113211\n",
      "12       1321132132111213122112311311222113111221131221\n",
      "13    1113122113121113123112111311222112132113213221...\n",
      "14    3113112221131112311311121321123113213221121113...\n",
      "15    1321132132211331121321133112111312211213211312...\n",
      "16    1113122113121113222123211211131221232112311311...\n",
      "17    3113112221131112311332111213122112311311221112...\n",
      "18    1321132132211331121321231231121113112221121321...\n",
      "19    1113122113121113222123211211131211121311121321...\n",
      "Name: terme, dtype: object\n"
     ]
    }
   ],
   "source": [
    "print(conway_bdd['terme'])"
   ]
  },
  {
   "cell_type": "markdown",
   "id": "0828cf49",
   "metadata": {},
   "source": [
    "# prop 1 : les termes ne sont constitués que de 1, 2 ou 3"
   ]
  },
  {
   "cell_type": "code",
   "execution_count": 7,
   "id": "cace6b8b",
   "metadata": {},
   "outputs": [
    {
     "name": "stdout",
     "output_type": "stream",
     "text": [
      "[]\n"
     ]
    }
   ],
   "source": [
    "resultat = []\n",
    "for terme in conway_bdd['terme']:\n",
    "    if (\"4\" or \"5\" or \"6\" or \"7\" or \"8\" or \"9\") in terme :\n",
    "        resultat.append(terme)\n",
    "print(resultat)"
   ]
  },
  {
   "cell_type": "markdown",
   "id": "ec06e310",
   "metadata": {},
   "source": [
    "# prop 3 : tous les termes, sauf le 1er, sont de longueur pair"
   ]
  },
  {
   "cell_type": "code",
   "execution_count": 8,
   "id": "1fae1218",
   "metadata": {},
   "outputs": [
    {
     "name": "stdout",
     "output_type": "stream",
     "text": [
      "1\n"
     ]
    }
   ],
   "source": [
    "for terme in conway_bdd['terme']:\n",
    "    if len(terme)%2 == 1:\n",
    "        print(terme)"
   ]
  },
  {
   "cell_type": "markdown",
   "id": "4a23dcd0",
   "metadata": {},
   "source": [
    "# prop 4 : à partir du rang 4, les termes de rang pair se terminent par 211 et ceux de rang impair par 221"
   ]
  },
  {
   "cell_type": "code",
   "execution_count": 15,
   "id": "affd463c",
   "metadata": {},
   "outputs": [
    {
     "name": "stdout",
     "output_type": "stream",
     "text": [
      "[]\n"
     ]
    }
   ],
   "source": [
    "odd_i = []\n",
    "even_i = []\n",
    "for i in range(3, len(conway_bdd['terme'])): \n",
    "    if i % 2: \n",
    "        even_i.append(conway_bdd['terme'][i]) \n",
    "    else : \n",
    "        odd_i.append(conway_bdd['terme'][i])\n",
    "#print(even_i)\n",
    "#print(odd_i)\n",
    "resultat = []\n",
    "for terme in even_i:\n",
    "    if terme[-3:] != \"211\" :\n",
    "        resultat.append(terme)\n",
    "for terme in odd_i:\n",
    "    if terme[-3:] != \"221\" :\n",
    "        resultat.append(terme)\n",
    "print(resultat)"
   ]
  },
  {
   "cell_type": "markdown",
   "id": "2269308e",
   "metadata": {},
   "source": [
    "# prop 5 : les termes terminent en vélo à partir du rang 8"
   ]
  },
  {
   "cell_type": "code",
   "execution_count": 12,
   "id": "6bb70d54",
   "metadata": {},
   "outputs": [
    {
     "name": "stdout",
     "output_type": "stream",
     "text": [
      "[]\n"
     ]
    }
   ],
   "source": [
    "trois_n = []\n",
    "trois_n_1 = []\n",
    "trois_n_2 = []\n",
    "for i in range(7, len(conway_bdd['terme'])): \n",
    "    if i % 3 == 0:\n",
    "        trois_n.append(conway_bdd['terme'][i])\n",
    "    elif i % 3  == 1:\n",
    "        trois_n_1.append(conway_bdd['terme'][i])\n",
    "    else :\n",
    "        trois_n_2.append(conway_bdd['terme'][i])\n",
    "#print(trois_n)\n",
    "#print(trois_n_1)\n",
    "#print(trois_n_2)\n",
    "\n",
    "resultat = []\n",
    "for terme in trois_n:\n",
    "    if terme[:4] != \"1321\" :\n",
    "        resultat.append(terme)\n",
    "for terme in trois_n_1:\n",
    "    if terme[:4] != \"1113\" :\n",
    "        resultat.append(terme)\n",
    "for terme in trois_n_2:\n",
    "    if terme[:4] != \"3113\" :\n",
    "        resultat.append(terme)\n",
    "        \n",
    "print(resultat)"
   ]
  },
  {
   "cell_type": "markdown",
   "id": "07dcca42",
   "metadata": {},
   "source": [
    "# prop 7 : proportion de 1, 2 et 3 dans les termes semblent se stabiliser"
   ]
  },
  {
   "cell_type": "code",
   "execution_count": 17,
   "id": "4c5d8112",
   "metadata": {},
   "outputs": [],
   "source": [
    "props = [[0 for _2 in range(n)] for _1 in range(3)]\n",
    "for i, seq in enumerate(sequence):\n",
    "    # count first\n",
    "    for elem in seq:\n",
    "        props[elem - 1][i] += 1\n",
    "    # then normalise\n",
    "    for j in range(3):\n",
    "        props[j][i] /= len(seq)"
   ]
  },
  {
   "cell_type": "code",
   "execution_count": 18,
   "id": "e0c020aa",
   "metadata": {},
   "outputs": [],
   "source": [
    "indicies = [i + 1 for i in range(n)]"
   ]
  },
  {
   "cell_type": "code",
   "execution_count": 19,
   "id": "09cbb381",
   "metadata": {},
   "outputs": [
    {
     "data": {
      "image/png": "[encoded data removed]",
      "text/plain": [
       "<Figure size 864x432 with 1 Axes>"
      ]
     },
     "metadata": {},
     "output_type": "display_data"
    }
   ],
   "source": [
    "import matplotlib.pyplot as plt\n",
    "import matplotlib.ticker as tck\n",
    "\n",
    "fig, ax = plt.subplots(figsize=(12, 6))\n",
    "\n",
    "for i in range(3):\n",
    "    ax.plot(indicies, props[i], label=f'{i+1}')\n",
    "ax.legend(title=\"Term Digits\")\n",
    "ax.set_xlabel('Index of Term')\n",
    "ax.set_ylabel('Proportion of Term');\n",
    "ax.grid()\n",
    "ax.minorticks_on()\n",
    "ax.grid(which='minor', linestyle='-', linewidth=.2)\n",
    "\n",
    "fig.patch.set_facecolor('white')\n",
    "fig.tight_layout();"
   ]
  },
  {
   "cell_type": "markdown",
   "id": "0a951943",
   "metadata": {},
   "source": [
    "# prop 2 : 92 briques (à faire - non fait actuellement)"
   ]
  },
  {
   "cell_type": "code",
   "execution_count": 1,
   "id": "92fad923",
   "metadata": {},
   "outputs": [
    {
     "name": "stdout",
     "output_type": "stream",
     "text": [
      "   Element      Evolution                                      String  \\\n",
      "1        H              H                                          22   \n",
      "2       He  Hf Pa H Ca Li            13112221133211322112211213322112   \n",
      "3       Li             He                 312211322212221121123222112   \n",
      "4       Be       Ge Ca Li  111312211312113221133211322112211213322112   \n",
      "5        B             Be          1321132122211322212221121123222112   \n",
      "..     ...            ...                                         ...   \n",
      "88      Ra             Fr                                      132113   \n",
      "89      Ac             Ra                                        3113   \n",
      "90      Th             Ac                                        1113   \n",
      "91      Pa             Th                                          13   \n",
      "92       U             Pa                                           3   \n",
      "\n",
      "                                     String Evolution  \n",
      "1                                                  22  \n",
      "2              11132132212312211322212221121123222112  \n",
      "3                    13112221133211322112211213322112  \n",
      "4   3113112221131112211322212312211322212221121123...  \n",
      "5          111312211312113221133211322112211213322112  \n",
      "..                                                ...  \n",
      "88                                         1113122113  \n",
      "89                                             132113  \n",
      "90                                               3113  \n",
      "91                                               1113  \n",
      "92                                                 13  \n",
      "\n",
      "[92 rows x 4 columns]\n",
      "Element             object\n",
      "Evolution           object\n",
      "String              object\n",
      "String Evolution    object\n",
      "dtype: object\n"
     ]
    }
   ],
   "source": [
    "import pandas as pd\n",
    "\n",
    "elt_bdd = pd.read_csv(\"element.txt\", sep = \"\\t\")\n",
    "print(elt_bdd)\n",
    "print(elt_bdd.dtypes)"
   ]
  },
  {
   "cell_type": "code",
   "execution_count": 2,
   "id": "f6b4a0ca",
   "metadata": {},
   "outputs": [
    {
     "data": {
      "text/html": [
       "<div>\n",
       "<style scoped>\n",
       "    .dataframe tbody tr th:only-of-type {\n",
       "        vertical-align: middle;\n",
       "    }\n",
       "\n",
       "    .dataframe tbody tr th {\n",
       "        vertical-align: top;\n",
       "    }\n",
       "\n",
       "    .dataframe thead th {\n",
       "        text-align: right;\n",
       "    }\n",
       "</style>\n",
       "<table border=\"1\" class=\"dataframe\">\n",
       "  <thead>\n",
       "    <tr style=\"text-align: right;\">\n",
       "      <th></th>\n",
       "      <th>String</th>\n",
       "      <th>String Evolution</th>\n",
       "    </tr>\n",
       "  </thead>\n",
       "  <tbody>\n",
       "    <tr>\n",
       "      <th>1</th>\n",
       "      <td>22</td>\n",
       "      <td>22</td>\n",
       "    </tr>\n",
       "    <tr>\n",
       "      <th>2</th>\n",
       "      <td>13112221133211322112211213322112</td>\n",
       "      <td>11132132212312211322212221121123222112</td>\n",
       "    </tr>\n",
       "    <tr>\n",
       "      <th>3</th>\n",
       "      <td>312211322212221121123222112</td>\n",
       "      <td>13112221133211322112211213322112</td>\n",
       "    </tr>\n",
       "    <tr>\n",
       "      <th>4</th>\n",
       "      <td>111312211312113221133211322112211213322112</td>\n",
       "      <td>3113112221131112211322212312211322212221121123...</td>\n",
       "    </tr>\n",
       "    <tr>\n",
       "      <th>5</th>\n",
       "      <td>1321132122211322212221121123222112</td>\n",
       "      <td>111312211312113221133211322112211213322112</td>\n",
       "    </tr>\n",
       "    <tr>\n",
       "      <th>...</th>\n",
       "      <td>...</td>\n",
       "      <td>...</td>\n",
       "    </tr>\n",
       "    <tr>\n",
       "      <th>88</th>\n",
       "      <td>132113</td>\n",
       "      <td>1113122113</td>\n",
       "    </tr>\n",
       "    <tr>\n",
       "      <th>89</th>\n",
       "      <td>3113</td>\n",
       "      <td>132113</td>\n",
       "    </tr>\n",
       "    <tr>\n",
       "      <th>90</th>\n",
       "      <td>1113</td>\n",
       "      <td>3113</td>\n",
       "    </tr>\n",
       "    <tr>\n",
       "      <th>91</th>\n",
       "      <td>13</td>\n",
       "      <td>1113</td>\n",
       "    </tr>\n",
       "    <tr>\n",
       "      <th>92</th>\n",
       "      <td>3</td>\n",
       "      <td>13</td>\n",
       "    </tr>\n",
       "  </tbody>\n",
       "</table>\n",
       "<p>92 rows × 2 columns</p>\n",
       "</div>"
      ],
      "text/plain": [
       "                                        String  \\\n",
       "1                                           22   \n",
       "2             13112221133211322112211213322112   \n",
       "3                  312211322212221121123222112   \n",
       "4   111312211312113221133211322112211213322112   \n",
       "5           1321132122211322212221121123222112   \n",
       "..                                         ...   \n",
       "88                                      132113   \n",
       "89                                        3113   \n",
       "90                                        1113   \n",
       "91                                          13   \n",
       "92                                           3   \n",
       "\n",
       "                                     String Evolution  \n",
       "1                                                  22  \n",
       "2              11132132212312211322212221121123222112  \n",
       "3                    13112221133211322112211213322112  \n",
       "4   3113112221131112211322212312211322212221121123...  \n",
       "5          111312211312113221133211322112211213322112  \n",
       "..                                                ...  \n",
       "88                                         1113122113  \n",
       "89                                             132113  \n",
       "90                                               3113  \n",
       "91                                               1113  \n",
       "92                                                 13  \n",
       "\n",
       "[92 rows x 2 columns]"
      ]
     },
     "execution_count": 2,
     "metadata": {},
     "output_type": "execute_result"
    }
   ],
   "source": [
    "del elt_bdd['Element']\n",
    "del elt_bdd['Evolution']\n",
    "elt_bdd"
   ]
  },
  {
   "cell_type": "raw",
   "id": "9b850bb1",
   "metadata": {},
   "source": [
    "en cours de recherche ...."
   ]
  },
  {
   "cell_type": "code",
   "execution_count": null,
   "id": "70f021f6",
   "metadata": {},
   "outputs": [],
   "source": []
  }
 ],
 "metadata": {
  "kernelspec": {
   "display_name": "Python 3 (ipykernel)",
   "language": "python",
   "name": "python3"
  },
  "language_info": {
   "codemirror_mode": {
    "name": "ipython",
    "version": 3
   },
   "file_extension": ".py",
   "mimetype": "text/x-python",
   "name": "python",
   "nbconvert_exporter": "python",
   "pygments_lexer": "ipython3",
   "version": "3.9.7"
  }
 },
 "nbformat": 4,
 "nbformat_minor": 5
}
